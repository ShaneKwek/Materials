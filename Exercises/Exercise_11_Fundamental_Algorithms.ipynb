{
 "cells": [
  {
   "attachments": {},
   "cell_type": "markdown",
   "metadata": {},
   "source": [
    "# Exercise 11\n",
    "\n",
    "Related Notes:\n",
    "- Chapter_11_Fundamental_Algorithms\n",
    "\n",
    "[![Open In Colab](https://colab.research.google.com/assets/colab-badge.svg)](https://colab.research.google.com/github/njc-cz2-2021/Materials/blob/main/Exercises/Exercise_11_Fundamental_Algorithms.ipynb) "
   ]
  },
  {
   "cell_type": "markdown",
   "metadata": {},
   "source": [
    "# Exercise 11.1\n",
    "\n",
    "Write the function `linearSearch1`, which takes in 2 parameters:\n",
    "\n",
    "1. a list of integers, `L`, \n",
    "2. a target integer, `t`. \n",
    "\n",
    "This function will return the index of any instance of `t` in `L`. If `t` does not exist in `L`, then the function will return `-1`. Your implementation should be based on the linear search algorithm."
   ]
  },
  {
   "cell_type": "code",
   "execution_count": 3,
   "metadata": {},
   "outputs": [],
   "source": [
    "#YOUR_CODE_HERE"
   ]
  },
  {
   "cell_type": "markdown",
   "metadata": {},
   "source": [
    "# Exercise 11.2\n",
    "\n",
    "Write the function `binarySearch1`, which takes in 2 parameters:\n",
    "\n",
    "1. a list of integers, `L`, which is sorted in ascending order  and \n",
    "2. a target integer, `t`. \n",
    "\n",
    "This function will return the index of any instance of `t` in `L`. If `t` does not exist in `L`, then the function will return `-1`. Your implementation should be based on the binary search algorithm."
   ]
  },
  {
   "cell_type": "code",
   "execution_count": null,
   "metadata": {},
   "outputs": [],
   "source": [
    "#YOUR_CODE_HERE"
   ]
  },
  {
   "cell_type": "markdown",
   "metadata": {},
   "source": [
    "# Exercise 11.3\n",
    "\n",
    "Write the function `binarySearch2`, which takes in 2 parameters: \n",
    "\n",
    "1. a list of integers, `L`, sorted in descending order, and \n",
    "2.  a target integer, `t`. \n",
    "\n",
    "This function will return the index of any instance of `t` in `L`. If `t` does not exist in `L`, then the function will return `-1`. Your implementation should be based on the binary search algorithm.\n"
   ]
  },
  {
   "cell_type": "code",
   "execution_count": null,
   "metadata": {},
   "outputs": [],
   "source": [
    "#YOUR_CODE_HERE"
   ]
  },
  {
   "cell_type": "markdown",
   "metadata": {},
   "source": [
    "# Exercise 11.4\n",
    "\n",
    "Write the function `linearSearch2`, which takes in 2 parameters: \n",
    "\n",
    "1. a list of integers, `L`, and \n",
    "2. a target integer, `t`. \n",
    "\n",
    "This function will return the index of any instance in `L` that is **just greater** than `t`.\n",
    "\n",
    "We define an element `t'` in `L` is “just greater” than `t` if `t'` is greater than `t`, but less than (or equals) to any other element in `L` that is greater than `t`. If such any element does not exist in `L`, then the function will return `-1`. Your implementation should be based on the linear search algorithm."
   ]
  },
  {
   "cell_type": "code",
   "execution_count": 12,
   "metadata": {},
   "outputs": [],
   "source": [
    "#YOUR_CODE_HERE"
   ]
  },
  {
   "cell_type": "markdown",
   "metadata": {},
   "source": [
    "# Exercise 11.5\n",
    "\n",
    "Write the function `linearSearch3`, which takes in 2 parameters: \n",
    "\n",
    "1. a list of integers, `L`, and \n",
    "2. a target integer, `t`. \n",
    "\n",
    "This function will return the index of any instance in `L` that is **just less** than `t`.\n",
    "\n",
    "We define an element `t'` in `L` is “just less” than `t` if `t'` is less than `t`, but greater than (or equals) to any other element in `L` that is less than `t`. If such any element does not exist in `L`, then the function will return `-1`. Your implementation should be based on the linear search algorithm."
   ]
  },
  {
   "cell_type": "code",
   "execution_count": null,
   "metadata": {},
   "outputs": [],
   "source": [
    "#YOUR_CODE_HERE"
   ]
  },
  {
   "cell_type": "markdown",
   "metadata": {},
   "source": [
    "# Exercise 11.6\n",
    "\n",
    "The text file `DATA.TXT` contains student test scores. Each line of the file scores the results of a single student, and has the following format:\n",
    "\n",
    ">```python\n",
    "><student name>,<test score 1>,<test score 2>,<test score 3>,<test score 4>\n",
    ">```\t\n",
    "\n",
    "Here, <student name> is a string of letters, and each <test score i> corresponds to an integer.\n",
    "\n",
    "The maximum values for the test scores are as follows.\n",
    "- Test score 1 and 2: 50\n",
    "- Test score 3 and 4: 100\n",
    "\t\t\n",
    "The overall score for each student may be calculated by using the following weights:\n",
    "- Test score 1: 10%\n",
    "- Test score 2: 15%\n",
    "- Test score 3: 25%\n",
    "- Test score 4: 50%\n",
    "\n",
    "Write a script that will perform the following.\n",
    "\n",
    "1. Repeatedly ask the user if they wish to perform a search. If they reply no, the script terminates, else the script continues.\n",
    "\n",
    "2.  Asks the user to input one of the following search categories:\n",
    "\t- Overall score\n",
    "\t- Test score 1\n",
    "\t- Test score 2\n",
    "\t- Test score 3\n",
    "\t- Test score 4\n",
    "\n",
    "3. Asks the user to input a search parameter (i.e., the score that they wish to search for).\n",
    "\n",
    "4. Prints ALL the names of students that satisfy the search criteria. Note that you must implement an augmented version of linear search to perform this functionality. \n",
    "\n",
    "5. The script should then continue to the main loop in 1.\n",
    "\n",
    "Your implementation must include all necessary exception handling.\n"
   ]
  },
  {
   "cell_type": "code",
   "execution_count": null,
   "metadata": {},
   "outputs": [],
   "source": [
    "#YOUR_CODE_HERE"
   ]
  },
  {
   "cell_type": "markdown",
   "metadata": {},
   "source": [
    "# Exercise 11.7\n",
    "\n",
    "Design an appropriate set of test cases to test if an implementation of a sorting algorithm (that sorts a list of integers). (Note, you should recall the 3 categories of test cases, and implement sufficient test cases for each.)"
   ]
  },
  {
   "cell_type": "code",
   "execution_count": null,
   "metadata": {},
   "outputs": [],
   "source": [
    "#YOUR_CODE_HERE"
   ]
  },
  {
   "cell_type": "markdown",
   "metadata": {},
   "source": [
    "# Exercise 11.8\n",
    "\n",
    "Given a list of floating point values, `L`. Write the code to output:\n",
    "- The Minimum Value\n",
    "- The First Quartile Value\n",
    "- The Median Value\n",
    "- The Third Quartile Value\n",
    "- The Maximum Value\n",
    "\n",
    "You must implement the Quicksort algorithm to perform the necessary sorting.\n"
   ]
  },
  {
   "cell_type": "code",
   "execution_count": null,
   "metadata": {},
   "outputs": [],
   "source": [
    "#YOUR_CODE_HERE"
   ]
  },
  {
   "cell_type": "markdown",
   "metadata": {},
   "source": [
    "# Exercise 11.9 2024/A Level/P2/Q1 H2 Computing\n",
    "\n",
    "A game designer is designing a game for 2 players and needs you to program a prototype.\n",
    "\n",
    "Players in the game have 10 randomly generated cards. This is called a 'hand'. The cards each have  a colour (red, green or blue) and a number (1, 2, 3 or 4). There is no limit to the number of copies of  each card, for example there can be multiple cards that are red and 1. Each player has a score that is  0 when the game starts.\n",
    "\n",
    "In this prototype, the cards will be randomly generated for each player and sorted into ascending order by number.  \n",
    "\n",
    "On each turn:  \n",
    "- The next card from Player 1 's hand is selected.  \n",
    "- The next card from Player 2's hand is selected.  \n",
    "- These 2 cards are compared.  \n",
    "\n",
    "The winning card is determined based on the colour of each card:  \n",
    "- A red card wins over a green card.  \n",
    "- A green card wins over a blue card.  \n",
    "- A blue card wins over a red card.  \n",
    "\n",
    "The number on the winning card is multiplied by 2. This value is then added to the score of the player  who had the winning card.  \n",
    "\n",
    "The number on the losing card is added to the score of the player who had the losing card.  \n",
    "\n",
    "If both colours are the same:  \n",
    "- Player 1 's card number is added to player 1 's score.  \n",
    "- Player 2's card number is added to player 2's score."
   ]
  },
  {
   "cell_type": "markdown",
   "metadata": {},
   "source": [
    "## Task 1\n",
    "\n",
    "Write a program to set up the game for 2 players by:  \n",
    "- creating a list for each player \n",
    "- randomly generating 10 cards (each with a colour and number) to each player's list.\n",
    "<div style=\"text-align: right\">[4]</div>\n",
    "\n",
    "Test your program by outputting the contents of each player's hand.\n",
    "<div style=\"text-align: right\">[1]</div> "
   ]
  },
  {
   "cell_type": "code",
   "execution_count": null,
   "metadata": {},
   "outputs": [],
   "source": []
  },
  {
   "cell_type": "markdown",
   "metadata": {},
   "source": [
    "## Task 2\n",
    "\n",
    "Write a function that takes the colour of two cards as parameters and returns the result of the  comparison. The function should return '1' if the first colour wins, '2' if the second colour wins and '3' if  the colours are the same. \n",
    "<div style=\"text-align: right\">[2]</div> "
   ]
  },
  {
   "cell_type": "code",
   "execution_count": null,
   "metadata": {},
   "outputs": [],
   "source": []
  },
  {
   "cell_type": "markdown",
   "metadata": {},
   "source": [
    "## Task 3\n",
    "\n",
    "The cards in each hand now need to be sorted into numerical order.\n",
    "\n",
    "Write a function to take a hand as a parameter, sort the hand in-place into ascending numerical order  and return the sorted hand. If two cards have the same number, the colours are compared to position  the cards in this order: red, green, blue.\n",
    "\n",
    "Call the function to sort each of the 2 players' hands. Output the contents of each hand before and  after sorting. The contents of a hand must be output on one line.\n",
    "\n",
    "Do **not** use a built-in sorting function.\n",
    "<div style=\"text-align: right\">[8]</div> \n"
   ]
  },
  {
   "cell_type": "code",
   "execution_count": null,
   "metadata": {},
   "outputs": [],
   "source": []
  },
  {
   "cell_type": "markdown",
   "metadata": {},
   "source": [
    "## Task 4\n",
    "The cards are compared in pairs, starting with the first card from player 1 compared to the first card from player 2.\n",
    "\n",
    "The appropriate numbers are added to each player's score until all of the 10 cards have been used.\n",
    "\n",
    "Write a function to calculate and return the final score for each of the 2 players.\n",
    "<div style=\"text-align: right\">[5]</div> "
   ]
  },
  {
   "cell_type": "markdown",
   "metadata": {},
   "source": [
    "Test your program by:\n",
    "- outputting the sorted hand and the final score for player 1 on one line\n",
    "- outputting the sorted hand and the final score for player 2 on one line.\n",
    "<div style=\"text-align: right\">[1]</div> "
   ]
  },
  {
   "cell_type": "code",
   "execution_count": null,
   "metadata": {},
   "outputs": [],
   "source": []
  },
  {
   "cell_type": "markdown",
   "metadata": {},
   "source": [
    "## Task 5\n",
    "Write a function to calculate and output which player has won (has the higher final score), and which player has come second.\n",
    "\n",
    "There must be a suitable output if there is a draw.\n",
    "\n",
    "All outputs must have an appropriate message.\n",
    "<div style=\"text-align: right\">[2]</div>\n",
    "\n",
    "Test your program.\n",
    "<div style=\"text-align: right\">[1]</div>\n"
   ]
  },
  {
   "cell_type": "code",
   "execution_count": null,
   "metadata": {},
   "outputs": [],
   "source": []
  },
  {
   "cell_type": "markdown",
   "metadata": {},
   "source": [
    "# Exercise 11.10 2015/A Level/P1/Q1 H2 Computing\n",
    "\n",
    "The file `ADMISSIONS—DATA.TXT` contains the daily total admissions to a theme park over a period of 50 days.\n",
    "\n",
    "The task is to read the numbers from the file and display a sorted list.\n",
    "\n",
    "You will program two different sort algorithms:\n",
    "\n",
    "- A bubble sort.\n",
    "- Either a quick sort or an insertion sort but not both.\n",
    "\n",
    "## Task 1\n",
    "Write code for a procedure to display a menu with the following options:\n",
    "\n",
    "```text\n",
    "1. Read file data\n",
    "2. Bubble sort\n",
    "3. Quick sort / Insertion sort\n",
    "4. End\n",
    "```\n",
    "\n",
    "## Task 2\n",
    "Write the program code for a procedure to implement menu option 1.\n",
    "\n",
    "### Evidence 1\n",
    "- The program code for the menu.\n",
    "- Program code for menu option 1.\n",
    "\n",
    "<div style=\"text-align: right\">[5]</div>\n",
    "\n",
    "Options 2 and 3 will sort and display the sorted data.\n",
    "\n",
    "The algorithm for a bubble sort is given in file `BUBBLE.TXT`.\n",
    "Write program code as a procedure to implement the bubble sort.\n",
    "\n",
    "### Evidence 2\n",
    "The bubble sort code procedure.\n",
    "<div style=\"text-align: right\">[1]</div>\n",
    "\n",
    "Write program code as a procedure to implement the quick sort or the insertion sort.\n",
    "\n",
    "### Evidence 3\n",
    "\n",
    "- Indicate the sort method used.\n",
    "- The program for the sort method used.\n",
    "\n",
    "<div style=\"text-align: right\">[4]</div>\n"
   ]
  },
  {
   "cell_type": "code",
   "execution_count": null,
   "metadata": {},
   "outputs": [],
   "source": [
    "#YOUR_CODE_HERE"
   ]
  },
  {
   "cell_type": "markdown",
   "metadata": {},
   "source": [
    "### Task 3\n",
    "Additional code is to be written for each sort procedure. The sort methods will count and display the number of comparisons made in completing the sort process. This will provide an indicator of the efficiency of each algorithm.\n",
    "\n",
    "Write the additional code to count and display the number of comparisons made for each sort method.\n",
    "\n",
    "#### Evidence 4\n",
    "- The output from menu option 2. \n",
    "<div style=\"text-align: right\">[2]</div>\n",
    "\n",
    "#### Evidence 5\n",
    "- The output from menu option 3. \n",
    "<div style=\"text-align: right\">[2]</div>"
   ]
  },
  {
   "cell_type": "code",
   "execution_count": null,
   "metadata": {},
   "outputs": [],
   "source": [
    "#YOUR_CODE_HERE"
   ]
  },
  {
   "cell_type": "markdown",
   "metadata": {},
   "source": [
    "# Exercise 11.11 2018/A Level/P1/Q2 H2 Computing\n",
    "\n",
    "The following algorithm is an implementation of a quick sort that operates on an array `Scores`. \n",
    "\n",
    "This algorithm assumes that the first element of an array is the zeroth element. This means that `Scores[0]` is the first element in the array.\n",
    "\n",
    "This pseudocode is available in the file `QUICKSORT.TXT`\n",
    "\n",
    "```text\n",
    "FUNCTION QuickSort(Scores)\n",
    "    QuickSortHelper(Scores, 0, LENGTH(Scores) - 1)\n",
    "    RETURN Scores\n",
    "ENDFUNCTION\n",
    "\n",
    "FUNCTION QuickSortHelper(Scores, First, Last)\n",
    "    IF First < Last\n",
    "        THEN \n",
    "            SplitPoint <- Partition(Scores, First, Last)\n",
    "            QuickSortHelper(Scores, First, SplitPoint - 1)\n",
    "            QuickSortHelper(Scores, SplitPoint + 1, Last)\n",
    "    ENDIF\n",
    "    RETURN Scores\n",
    "ENDFUNCTION\n",
    "\n",
    "FUNCTION Partition(Scores, First, Last)\n",
    "    PivotValue <- Scores[First]\n",
    "    LeftMark <- First + 1\n",
    "    RightMark <- Last\n",
    "    Done <- FALSE\n",
    "    WHILE (Done = FALSE)\n",
    "        WHILE LeftMark <= RightMark AND Scores[LeftMark] <= PivotValue\n",
    "            LeftMark <- LeftMark + 1\n",
    "        ENDWHILE\n",
    "            WHILE Scores[RightMark] >= PivotValue AND RightMark >= LeftMark\n",
    "            RightMark ← RightMark - 1\n",
    "        ENDWHILE\n",
    "        IF RightMark < LeftMark\n",
    "            THEN\n",
    "                Done <- TRUE\n",
    "        ELSE\n",
    "            Temp <- Scores[LeftMark]\n",
    "            Scores[LeftMark] <- Scores[RightMark]\n",
    "            Scores[RightMark] <- Temp\n",
    "        ENDIF\n",
    "    ENDWHILE\n",
    "\n",
    "    ##<swap Scores[First] with Scores[RightMark]>##\n",
    "    \n",
    "    RETURN RightMark\n",
    "ENDFUNCTION\n",
    "```\n",
    "\n",
    "### Task 1\n",
    "Write program code to implement this algorithm. Ensure that you add the missing code to complete the algorithm. The area of missing code is highlighted as:\n",
    "\n",
    "```text\n",
    " ##<swap Scores [First] with Scores [RightMark]>##\n",
    "```\n",
    "\n",
    "Copy the sample data available in the `SCORES.TXT` file. Paste this into your programming code to set up the data to be sorted.\n",
    "\n",
    "#### Evidence 4\n",
    "Your program code. \n",
    "\n",
    "<div style=\"text-align: right\">[12]</div>"
   ]
  },
  {
   "cell_type": "code",
   "execution_count": null,
   "metadata": {},
   "outputs": [],
   "source": [
    "#YOUR_CODE_HERE"
   ]
  },
  {
   "cell_type": "markdown",
   "metadata": {},
   "source": [
    "### Task 2\n",
    "Add a function to your code to output `Scores`. Call this function before and after the operation of the quick sort so that the unsorted and sorted data is displayed.\n",
    "\n",
    "#### Evidence 5\n",
    "Your program code. \n",
    "\n",
    "<div style=\"text-align: right\">[2]</div>\n",
    "\n",
    "#### Evidence 6\n",
    "Screenshot showing the unsorted and sorted Scores data. \n",
    "\n",
    "<div style=\"text-align: right\">[1]</div>"
   ]
  },
  {
   "cell_type": "code",
   "execution_count": null,
   "metadata": {},
   "outputs": [],
   "source": [
    "#YOUR_CODE_HERE"
   ]
  },
  {
   "cell_type": "markdown",
   "metadata": {},
   "source": [
    "# Exercise 11.12 2022/A Level/P2/Q2 H2 Computing\n",
    "This task is to perform sorting algorithms on 100 integers held in a 1-dimensional list and then search for a value in the list.\n",
    "\n",
    "## Task 1\n",
    "Write a function, task2_1() to:\n",
    "- initialise a global 1-dimensional list\n",
    "- generate 100 random integers between 1 and 100 (inclusive)\n",
    "- store each Integer in the list\n",
    "- output the contents of the list. \n",
    "<div style=\"text-align: right\">[2]</div>\n",
    "\n",
    "Test your program and show the output.\n",
    "<div style=\"text-align: right\">[1]</div>\n"
   ]
  },
  {
   "cell_type": "code",
   "execution_count": null,
   "metadata": {},
   "outputs": [],
   "source": []
  },
  {
   "cell_type": "markdown",
   "metadata": {},
   "source": [
    "## Task 2\n",
    "\n",
    "Write program code to:\n",
    "- declare a procedure to implement a bubble sort\n",
    "- implement a bubble sort to sort the unsorted 1-dimensional list from **Task 2.1** (you must **not** use a built-in\n",
    "function).\n",
    "\n",
    "Write a program to:\n",
    "- call your function from **Task 2.1**\n",
    "- call the bubble sort procedure\n",
    "- output the sorted list. \n",
    "<div style=\"text-align: right\">[5]</div>\n",
    "\n",
    "Test your program and show the output.\n",
    "<div style=\"text-align: right\">[1]</div>"
   ]
  },
  {
   "cell_type": "code",
   "execution_count": null,
   "metadata": {},
   "outputs": [],
   "source": []
  },
  {
   "cell_type": "markdown",
   "metadata": {},
   "source": [
    "## Task 3\n",
    "\n",
    "Write program code to:\n",
    "- declare a procedure to implement a merge sort\n",
    "- implement a merge sort on the unsorted 1-dimensional list from **Task 2.1** (you must not use a built-in\n",
    "function).\n",
    "\n",
    "Write a program to:\n",
    "• ask the user to select which sorting algorithm they want to use\n",
    "• loop until a valid choice is input\n",
    "• call your function from **Task 2.1**\n",
    "• call the appropriate sorting procedure\n",
    "• output the sorted list. \n",
    "<div style=\"text-align: right\">[7]</div>\n",
    "\n",
    "Test the program by first entering one invalid choice (for example, ’no’) and then by entering one of the sorting methods (for example. ’bubble’). \n",
    "<div style=\"text-align: right\">[1]</div>"
   ]
  },
  {
   "cell_type": "code",
   "execution_count": null,
   "metadata": {},
   "outputs": [],
   "source": []
  },
  {
   "cell_type": "markdown",
   "metadata": {},
   "source": [
    "## Task 4\n",
    "Write program code to declare a recursive function to:\n",
    "- take an integer value as one of its parameters\n",
    "- implement a recursive blnary search on the list from **Task 2.1**\n",
    "- return the position of the integer in the list (if the integer appears more than once. then only one position\n",
    "needs to be returned)\n",
    "- return -1 if the integer is **not** in the list.\n",
    "\n",
    "Write a program to:\n",
    "- read in an integer value from the user\n",
    "- call the binary search function with the integer input\n",
    "- output the returned position if the integer is in the list\n",
    "- output “Not found’ if the integer is **not** in the list.\n",
    "<div style=\"text-align: right\">[7]</div>\n",
    "\n",
    "Test the program with the smallest integer that is in the list and then with one integer that is **not** in the list.\n",
    "<div style=\"text-align: right\">[2]</div>"
   ]
  },
  {
   "cell_type": "code",
   "execution_count": null,
   "metadata": {},
   "outputs": [],
   "source": []
  }
 ],
 "metadata": {
  "kernelspec": {
   "display_name": "Python 3",
   "language": "python",
   "name": "python3"
  },
  "language_info": {
   "name": "python",
   "version": "3.10.2"
  },
  "orig_nbformat": 2,
  "vscode": {
   "interpreter": {
    "hash": "a42ccb73e7d9bfdf27e036f1d2b8b681e55fc0743cc5586bc2474d4a60f4b886"
   }
  }
 },
 "nbformat": 4,
 "nbformat_minor": 2
}
