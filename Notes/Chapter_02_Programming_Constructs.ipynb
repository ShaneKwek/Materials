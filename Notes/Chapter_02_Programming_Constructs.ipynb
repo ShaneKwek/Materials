{
 "cells": [
  {
   "attachments": {},
   "cell_type": "markdown",
   "metadata": {},
   "source": [
    "# Learning Objectives\n",
    "\n",
    "- [ ]  2.2.3 Apply the fundamental programming constructs to control the flow of program execution:\n",
    "     * Sequence\n",
    "     * Selection\n",
    "     * Iteration \n",
    "\n",
    "[![Open In Colab](https://colab.research.google.com/assets/colab-badge.svg)](https://colab.research.google.com/github/njc-cz2-2021/Materials/blob/main/Notes/Chapter_02_Programming_Constructs.ipynb) \n",
    "\n",
    "# References\n",
    "\n",
    "1. https://realpython.com/python-while-loop/#the-python-break-and-continue-statements"
   ]
  },
  {
   "attachments": {},
   "cell_type": "markdown",
   "metadata": {},
   "source": [
    "# 2 Programming Constructs\n",
    "\n",
    ">A programming construct is an abstract way of describing a concept in terms of the syntax of programming language. These constructs are building blocks that forms the basis of all programs. \n",
    "\n",
    "These are basic programming constructs that we need to know:\n",
    "\n",
    "- Sequence,\n",
    "- Assignment,\n",
    "- Selection,\n",
    "- Iteration.\n",
    "\n",
    "We will explore the Assignment and Selection Construct in the sections below.\n",
    "\n",
    "## 2.0 Programming Construct : Sequence\n",
    "\n",
    "The most general construct of programming corresponds to the sequence of instructions, or more specifically, the sequence of statements that are specified within the program code.\n",
    "\n",
    "## 2.1 Programming Construct : Assignment\n",
    "\n",
    "In order to process data, we typically need to store it in computer memory. This is done via the use of variables. You might be familiar with variables given their use in mathematics. However, variables in mathematics and computing are different.\n",
    "\n",
    "In computing, a variable corresponds to an identifier that references a unit of data in computer memory.\n",
    "\n",
    "In order to define a variable, we must utilise the first programming construct: an **assignment statement**.\n",
    "\n",
    "To understand how assignment and variables work, let us refer to the following example:\n",
    "\n",
    "```text\n",
    "#x is the variable, 100 is the data, ← is the assignment operator\n",
    "#and the whole line below is the assignment statement\n",
    "x ← 100\n",
    "```\n",
    "\n",
    "The above is a typical assignment statement. We are specifying a variable, i.e., an identifier `x`, which will reference some part of the computer’s memory, and in that segment of computer memory, store the integer value `100`.\n",
    "\n",
    "Essentially, the assignment statement does 3 things:\n",
    "\n",
    "1. Stores the variable identifier in an identifier table\n",
    "2. Allocates computer memory for the storage of the data type value specified; the memory allocated will correspond to some specific location in memory - i.e., a memory address\n",
    "3. Links the variable identifier to the computer memory location\n",
    "\n",
    "In this manner, whenever the variable is used, the computer knows that we are referring to the value that is stored in the associated location in computer memory.\n",
    "\n",
    "Assignment also allows programmers to:\n",
    "\n",
    "1. Assign new values to a variable\n",
    "2. Copy variable values\n",
    "3. Swap values between variables\n",
    "\n",
    "It should also be noted that when assigning a value, that value may be computed using expressions consisting of arithmetic, logical, comparison and/or string operations. For example:\n",
    "\n",
    "```text\n",
    "x c 10 + 20\n",
    "```\n",
    "\n",
    "Such expressions can, and or course, often do include the specification of other variables. For example:\n",
    "\n",
    "```text\n",
    "result ← a*x**2 + b*x + c\n",
    "```\n",
    "\n",
    "In Python, instead of the symbol ← the assignment operator is `=` , which should not be confused with the equal sign $=$ from mathematics.\n",
    "\n",
    "In Python, we can do multivariable assignment in a single line too. Example:\n",
    "```python\n",
    "a,b = 10, 20\n",
    "a,b = b, a\n",
    "```\n",
    "\n",
    "### 2.1.1 Python Naming Conventions and some Formatting Standards\n",
    "\n",
    "To prevent conflict and to keep consistency between programs, programming languages normally has some naming conventions for the variables, please check [https://www.python.org/dev/peps/pep-0008/#naming-conventions](https://www.python.org/dev/peps/pep-0008/) for updated style guide for python. For example, never use the characters `l` (lowercase letter el), `O` (uppercase letter oh), or `I` (uppercase letter eye) as single character variable names. In some fonts, these characters are indistinguishable from the numerals one and zero. When tempted to use `l`, use `L` instead.\n",
    "\n",
    "Legal variable names of a variable in Python :\n",
    "- Cannot begin with a digit\n",
    "- Cannot include operator symbols\n",
    "- Cannot be reserved words (e.g., `or`, `and`, `not`, `in`, `is`, `def`, `return`, `pass`, `break`, `continue`)\n",
    "- Should not be built-in function names (e.g., `print`, `input`, `range`, `len`, `sum`,`min`, `max`, `int`, `str`)\n",
    " "
   ]
  },
  {
   "cell_type": "markdown",
   "metadata": {},
   "source": [
    "#### Exercise 2.1\n",
    "\n",
    "What is the output of the following code?\n",
    "\n",
    "```python\n",
    "a = 5 \n",
    "b = a + 7 \n",
    "a = 10 \n",
    "print(str(b))\n",
    "```"
   ]
  },
  {
   "cell_type": "code",
   "execution_count": 1,
   "metadata": {},
   "outputs": [],
   "source": [
    "#YOUR ANSWER HERE"
   ]
  },
  {
   "cell_type": "markdown",
   "metadata": {},
   "source": [
    "#### Exercise 2.2\n",
    "\n",
    "The Python interpreter has strict rules for variable names. Which of the following are legal Python variable names? If the name is not legal, state the reason.\n",
    "\n",
    "1. `and`\n",
    "2. `_and`\n",
    "3. `Var`\n",
    "4. `var1`\n",
    "5. `1var`\n",
    "6. `my-name`\n",
    "7. `your_name`\n",
    "8. `COLOUR`"
   ]
  },
  {
   "cell_type": "code",
   "execution_count": null,
   "metadata": {},
   "outputs": [],
   "source": [
    "#YOUR ANSWER HERE"
   ]
  },
  {
   "attachments": {},
   "cell_type": "markdown",
   "metadata": {},
   "source": [
    "## 2.2 Programming Construct : Selection\n",
    "Often, a program consisting of a sequence of statements is insufficient. This is because it is common to face a problem that requires the execution of different sets of statements dependent upon the current state of the data.\n",
    "\n",
    "To remedy this, we utilise the selection programming construct.\n",
    "\n",
    "With the selection programming construct, a query/condition is evaluated. Depending on its result, the program will take one of two possible courses of action. As such, the selection construct is typically referred to as an `if-else` statement (or `if` statement for short), which selects different sets of statements to execute.\n",
    "\n",
    "For example:\n",
    "\n",
    "```text\n",
    "INPUT x\n",
    "IF x ≥ 50\n",
    "    THEN\n",
    "        OUTPUT “PASS”\n",
    "        OUTPUT “Well done!”\n",
    "    ELSE\n",
    "        OUTPUT “FAIL”\n",
    "        OUTPUT “Please try harder.”\n",
    "ENDIF\n",
    "```\n",
    "\n",
    "It should be noted that it is common practice to indent the statements within the `if` or `else` parts of an `if` statement so that it is easier to read the code.\n",
    "\n",
    "Finally, it should also be noted that `if` statements may be nested, i.e., the statements in the `if` or `else` parts may themselves include another `if` statement.\n",
    "\n",
    "In Python, the `if` block follows the structure below:\n",
    "\n",
    "```python\n",
    "if <condition_1>:\n",
    "    <action_1>\n",
    "else:\n",
    "    <action_2>\n",
    "```"
   ]
  },
  {
   "cell_type": "code",
   "execution_count": null,
   "metadata": {},
   "outputs": [],
   "source": [
    "# Python implementation of the example above\n",
    "x = int(input('Please enter marks'))\n",
    "\n",
    "if x >= 50:\n",
    "    print('Pass')\n",
    "    print('Well done!')\n",
    "else:\n",
    "    print('Fail')\n",
    "    print('Please Try Harder')"
   ]
  },
  {
   "cell_type": "markdown",
   "metadata": {},
   "source": [
    "Sometimes there are more conditions which require different actions to be carried out when the conditions are met. In Python, we can use `elif` statements inside the `if` block to handle these conditions. In such cases, the `if` follows the structure below:\n",
    "\n",
    "```python\n",
    "if <condition_1>:\n",
    "    <action_1>\n",
    "elif <condition_2>: #if statements do not always need to be accompanied by elif and else\n",
    "    <action_2>\n",
    "else:\n",
    "    <action_3>\n",
    "```"
   ]
  },
  {
   "cell_type": "markdown",
   "metadata": {},
   "source": [
    "#### Exercise 2.3\n",
    "\n",
    "Consider the following code.\n",
    "\n",
    "```python\n",
    "x = int(input(\"Enter a positive integer value for x: \") )\n",
    "\n",
    "if x > 10 and x % 6 == 3:\n",
    "   print(\"a\", end = \"\")\n",
    "elif x > 10 and x < 20:\n",
    "   print(\"b\", end = \"\")\n",
    "else:\n",
    "   print(\"c\", end = \"\")\n",
    "print(\"\")\n",
    "```\n",
    "\n",
    "Given the following outputs, determine the corresponding value(s) for `x` that would have generated that output. If no values of `a` can produce the listed output, write none.\n",
    "\n",
    "1. `ab`\n",
    "2. `a`\n",
    "3. `b`\n",
    "4. `c`"
   ]
  },
  {
   "cell_type": "code",
   "execution_count": 1,
   "metadata": {},
   "outputs": [],
   "source": [
    "# YOUR ANSWER HERE"
   ]
  },
  {
   "cell_type": "markdown",
   "metadata": {},
   "source": [
    "#### Exercise 2.4\n",
    "\n",
    "In cells, DNA (Deoxyribonucleic acid) is the nucleic acid that functions as the original blueprint for the synthesis of proteins. On the other hand, Ribonucleic acid (RNA) is a nucleic acid which is directly involved in protein synthesis.\n",
    "\n",
    "The four nucleotides found in DNA are adenine (A), cytosine (C), guanine (G) and thymine (T). The four nucleotides found in RNA are adenine (A), cytosine (C), guanine (G) and uracil (U).\n",
    "\n",
    "Given a DNA strand, its transcribed RNA strand is formed by replacing each nucleotide with its complement:\n",
    "\n",
    "```text\n",
    "G --> C\n",
    "C --> G\n",
    "T --> A\n",
    "A --> U\n",
    "```\n",
    "\n",
    "Write a program that \n",
    "- request the user for a DNA nucleotide string\n",
    "- transcribes a given DNA nucleotide string `dnaNuc` into a RNA string\n",
    "- assign the transcribed string to `rnaNuc`. \n",
    "- print out the transcribed string\n",
    "\n",
    "For example, if the DNA nucleotide is `\"G\"`, the transcribed string will be `\"C\"`. You may assume the given DNA nucleotide is valid."
   ]
  },
  {
   "cell_type": "code",
   "execution_count": null,
   "metadata": {},
   "outputs": [],
   "source": [
    "# YOUR ANSWER HERE"
   ]
  },
  {
   "cell_type": "markdown",
   "metadata": {},
   "source": [
    "#### Exercise 2.5\n",
    "\n",
    "Write a program that helps the user to convert a given integer from 0 to 100 inclusive, to an alphabetical grade. \n",
    " \n",
    "The problem: \n",
    "-\tRequest a quantity from the user. \n",
    "-\tif the input quantity is greater or equal to 70, print `A`,\n",
    "-\tif the input quantity is between 60 and 69 inclusive, print `B`,\n",
    "-\tif the input quantity is between 55 and 59 inclusive, print `C`,\n",
    "-\tif the input quantity is between 50 and 54 inclusive, print `D`,\n",
    "-\tif the input quantity is between 45 and 49 inclusive, print `E`,\n",
    "-\tif the input quantity is between 40 and 44 inclusive, print `S`,\n",
    "-\totherwise, print `U`.\n",
    "\n",
    "Example interaction:\n",
    "\n",
    "```text\n",
    "Enter mark: 75\n",
    "A\n",
    "```"
   ]
  },
  {
   "cell_type": "code",
   "execution_count": null,
   "metadata": {},
   "outputs": [],
   "source": [
    "#YOUR ANSWER HERE"
   ]
  },
  {
   "attachments": {},
   "cell_type": "markdown",
   "metadata": {},
   "source": [
    "## 2.3 Programming Constructs : Iteration\n",
    "\n",
    "The last programming construct is the iteration construct, which allows us to specify loops.\n",
    "\n",
    "Often, we will notice that our code requires the execution of similar repeated steps.\n",
    "\n",
    "The iteration, or loop construct allows us to automate repeated steps. More specifically, iteration is the act of repeating a process to achieve a specific end goal. When iteration is used, the sequence/set of instructions within the loop will keep repeating until a certain condition/requirement has been reached, or is no longer satisfied. Each repetition is also known as an iteration. The results of one iteration are used as the starting point for the next iteration.\n",
    "\n",
    "Iteration usually involves the use of loops. Most commonly used loops include:\n",
    "\n",
    "1. **For** loops : Loops with an explicit counter for every iteration. This allows the body of the `for` loop code to know about the sequencing (i.e. index number) of the iteration. \n",
    "2. **While-Do** loops : Loops which continually execute a statement while a particular expression (of a condition/set of conditions) is true. It is executed zero or more times. \n",
    "3. **Do-While** (or Repeat-Until) loops : Similar to while-do loops, except the expression is evaluated at the end. Hence, the block of code is executed at once, then only repeats when the specified condition or set of conditions is met. (Not in Python)\n",
    "\n",
    "In Python, the `for` and `while` loops follow the structure below:\n",
    "\n",
    "```python\n",
    "for index in <iterable>:\n",
    "    <action_here>\n",
    "\n",
    "while <condition>:\n",
    "    <action_here>\n",
    "```"
   ]
  },
  {
   "cell_type": "markdown",
   "metadata": {},
   "source": [
    "In Python, lists and strings are `iterable` objects. \n",
    "\n",
    "For example, suppose we have the list `[1,2,3,4,5]`. We can print all the elements of the list line by line by using iteration."
   ]
  },
  {
   "cell_type": "code",
   "execution_count": null,
   "metadata": {},
   "outputs": [],
   "source": [
    "l = [1,2,3,4,5]\n",
    "\n",
    "# for loop approach\n",
    "for elem in l:\n",
    "    print(elem)\n",
    "\n",
    "# while loop approach\n",
    "n = len(l)\n",
    "\n",
    "i = 0\n",
    "while i < n:\n",
    "    print(l[i])\n",
    "    i += 1 "
   ]
  },
  {
   "attachments": {},
   "cell_type": "markdown",
   "metadata": {},
   "source": [
    "Another example of an `iterable` object in Python is `range`. The syntax is `range(start,end,step)` and it will give an iterable that starts from `start` with the highest being `end - 1` (*note this*). `step` is an optional argument that specify how much the increment from `start` is. By default, `step = 1`.\n",
    "\n",
    "In Python, we can also use `break` and `continue` statements inside the loops to terminate a loop iteration halfway.\n",
    "- the `break` statement stops the loop iteration **completely**, while\n",
    "- the `continue` statement terminates the current loop iteration but goes back to check the condition if the rest of the iteration could be carried out."
   ]
  },
  {
   "cell_type": "code",
   "execution_count": null,
   "metadata": {},
   "outputs": [],
   "source": [
    "n = 5\n",
    "\n",
    "while n >= 1:\n",
    "    print(n)\n",
    "    if n == 3:\n",
    "        n -= 2\n",
    "        continue\n",
    "    n -= 1\n",
    "\n",
    "print('-----')\n",
    "print(n)"
   ]
  },
  {
   "cell_type": "markdown",
   "metadata": {},
   "source": [
    "#### Exercise 2.6\n",
    "\n",
    "What is the output for each of the following pieces of code?\n",
    "\n",
    "1. Code 1\n",
    "\n",
    "    ```python\n",
    "    num = 10  \t\n",
    "    while num > 3:\n",
    "       print(num) \n",
    "       num = num – 1\n",
    "    ```\n",
    "\n",
    "2. Code 2\n",
    "\n",
    "    ```python\n",
    "    divisor = 2  \t\n",
    "    for i in range(0, 10, 2):  \t \t\n",
    "       print(i // divisor)\n",
    "    ```\n",
    "\n",
    "3. Code 3\n",
    "\n",
    "    ```python\n",
    "    num = 10  \t\n",
    "    while True:  \t\t\n",
    "       if num < 7: \n",
    "           break  \t \t\t\n",
    "       print(num) \n",
    "       num -= 1\n",
    "    ```\n",
    "\n",
    "4. Code 4\n",
    "\n",
    "    ```python\n",
    "    count = 0  \t\n",
    "    for letter in \"Snow!\": \n",
    "       print(\"Letter #\" + str(count), \" is \", letter)\n",
    "       count += 1\n",
    "    ```"
   ]
  },
  {
   "cell_type": "code",
   "execution_count": null,
   "metadata": {},
   "outputs": [],
   "source": [
    "#YOUR ANSWER HERE"
   ]
  },
  {
   "cell_type": "markdown",
   "metadata": {},
   "source": [
    "#### Example 2.7\n",
    "\n",
    "Write a program that helps the user to print each character in a given string.\n",
    "\n",
    "Example interaction:\n",
    "\n",
    "```text\n",
    "Please enter a string: abcdef \n",
    "a\n",
    "b\n",
    "c\n",
    "d\n",
    "e\n",
    "f\n",
    "```"
   ]
  },
  {
   "cell_type": "code",
   "execution_count": null,
   "metadata": {},
   "outputs": [],
   "source": [
    "#YOUR ANSWER HERE"
   ]
  },
  {
   "cell_type": "markdown",
   "metadata": {},
   "source": [
    "#### Exercise 2.8\n",
    "Show that for any integer $n$, $n^5$ and $n$ always have the same last digit."
   ]
  },
  {
   "cell_type": "code",
   "execution_count": null,
   "metadata": {},
   "outputs": [],
   "source": [
    "#YOUR ANSWER HERE"
   ]
  },
  {
   "cell_type": "markdown",
   "metadata": {},
   "source": [
    "#### Example 2.9\n",
    "\n",
    "\n",
    "Write a program that helps the user to convert a given integer from 0 to 100 inclusive to a grade repeatedly until the user keys in enter without typing anything. You can assume that the input is always an integer until the user wants to quit.\n",
    " \n",
    "The problem: \n",
    "-\tRequest a quantity from the user. \n",
    "-\tif the input quantity is greater or equal to 70, print `A`,\n",
    "-\tif the input quantity is between 60 and 69 inclusive, print `B`,\n",
    "-\tif the input quantity is between 55 and 59 inclusive, print `C`,\n",
    "-\tif the input quantity is between 50 and 54 inclusive, print `D`,\n",
    "-\tif the input quantity is between 45 and 49 inclusive, print `E`,\n",
    "-\tif the input quantity is between 40 and 44 inclusive, print `S`,\n",
    "-\totherwise, print `U`.\n",
    "\n",
    "Example interaction:\n",
    "\n",
    "```text\n",
    "Enter mark: 75 \n",
    "A\n",
    "Enter mark again: 75 \n",
    "B\n",
    "Enter mark again:  \n",
    "```"
   ]
  },
  {
   "cell_type": "code",
   "execution_count": null,
   "metadata": {},
   "outputs": [],
   "source": [
    "#YOUR ANSWER HERE"
   ]
  },
  {
   "cell_type": "markdown",
   "metadata": {},
   "source": [
    "#### Example 2.10\n",
    "Write a program that helps the user to extracting digits from a given integer input and print them out in the reverse order.\n",
    "\n",
    "Example interaction:\n",
    "\n",
    "```text\n",
    "Enter a number: 123\n",
    "3\n",
    "2\n",
    "1\n",
    "```"
   ]
  },
  {
   "cell_type": "code",
   "execution_count": null,
   "metadata": {},
   "outputs": [],
   "source": [
    "# YOUR ANSWER HERE"
   ]
  },
  {
   "cell_type": "markdown",
   "metadata": {},
   "source": [
    "#### Example 2.11\n",
    "Write a program that helps the user to prints out all the positive factors of a positive integer $n$.\n",
    "\n",
    "Example interaction:\n",
    "\n",
    "```text\n",
    "Please enter a positive integer: 225 \n",
    "1\n",
    "3\n",
    "5\n",
    "9\n",
    "15\n",
    "25\n",
    "45\n",
    "75\n",
    "225\n",
    "```"
   ]
  },
  {
   "cell_type": "code",
   "execution_count": null,
   "metadata": {},
   "outputs": [],
   "source": [
    "#YOUR ANSWER HERE"
   ]
  },
  {
   "attachments": {},
   "cell_type": "markdown",
   "metadata": {},
   "source": [
    "#### Exercise 2.12\n",
    "\n",
    "What is the output for each of the following pieces of code?\n",
    "\n",
    "Note: if the code does not terminate, write infinite loop.\n",
    "\n",
    "1. Code 1\n",
    "\n",
    "    ```python\n",
    "    a = 5  \t\n",
    "    while a < 8:  \t \n",
    "       print(\"X\", end = \"\") \n",
    "    print(\"\")\n",
    "    ```\n",
    "\n",
    "2. Code 2\n",
    "\n",
    "    ```python\n",
    "    a = -1  \t\n",
    "    while a < 3:  \t \t\n",
    "       print(\"X\" , end = \"\") \n",
    "    a = a + 1 \n",
    "    print(\"\")\n",
    "    ```\n",
    "\n",
    "3. Code 3\n",
    "\n",
    "    ```python\n",
    "    a = 1\n",
    "    while a % 7 != 0:  \t \t\n",
    "       if a % 2 == 0: \n",
    "           print(\"O\" , end = \"\")  \t \t\n",
    "       if a == 2:  \t \t \t\n",
    "           print(\"X\" , end = \"\")  \t \t\n",
    "       a = a + 1 \n",
    "    print(\"\")\n",
    "    ```"
   ]
  },
  {
   "cell_type": "code",
   "execution_count": null,
   "metadata": {},
   "outputs": [],
   "source": [
    "#YOUR ANSWER HERE"
   ]
  },
  {
   "attachments": {},
   "cell_type": "markdown",
   "metadata": {},
   "source": [
    "#### Exercise 2.13\n",
    "\n",
    "What is the output for each of the following pieces of code?\n",
    "\n",
    "1. Code 1\n",
    "\n",
    "    ```python\n",
    "    keep_going = True \n",
    "    a = 0  \t\n",
    "    b = 0  \t\n",
    "    while keep_going:  \t \t\n",
    "       print(\"O\", end = \"\")  \t \t\n",
    "       a = a + 5  \t \t\n",
    "       b = b + 7  \t \t\n",
    "       if a + b >= 24: \n",
    "           |keep_going = False  \t\n",
    "    print(\"\")\n",
    "    ```\n",
    "\n",
    "2. Code 2\n",
    "\n",
    "    ```python\n",
    "    keep_going = True \n",
    "    a = 0  \t\n",
    "    b = 0  \t\n",
    "    while keep_going: \n",
    "       print(\"O\" , end = \"\")  \t \t\n",
    "       if a + b >= 24: \n",
    "           keep_going = False  \t \t\n",
    "       a = a + 5  \t \t\n",
    "       b = b + 7 \n",
    "    print(\"\")\n",
    "    ```\n",
    "\n",
    "3. Code 3\n",
    "\n",
    "    ```python\n",
    "    keep_going = True  \t\n",
    "    a = 0  \t\n",
    "    b = 0  \t\n",
    "    while keep_going:  \t \t\n",
    "       print(\"O\" , end = \"\")  \t \t\n",
    "       a = a + 5  \t \t\n",
    "       b = b + 7 \n",
    "       if a + b > 24:  # note that \">\" is used here … vs \">=\" in (i)\n",
    "           keep_going = False  \t\n",
    "    print(\"\")\n",
    "    ```\n",
    "\n",
    "4. Code 4\n",
    "\n",
    "    ```python\n",
    "    keep_going = True \n",
    "    a = 0  \t\n",
    "    b = 0  \t\n",
    "    while keep_going: \n",
    "       print(\"O\" , end = \"\")  \t \t\n",
    "       if a + b > 24:  \n",
    "           keep_going = False  # note that \">\" is used here … vs \">=\" in (ii)  \t \t\n",
    "       a = a + 5  \t \t\n",
    "       b = b + 7 \n",
    "    print(\"\")\n",
    "    ```"
   ]
  },
  {
   "cell_type": "code",
   "execution_count": null,
   "metadata": {},
   "outputs": [],
   "source": [
    "#YOUR ANSWER HERE"
   ]
  },
  {
   "attachments": {},
   "cell_type": "markdown",
   "metadata": {},
   "source": [
    "#### Exercise 2.14\n",
    "\n",
    "What is the output for each of the following pieces of code? Note: if the code does not terminate, write infinite loop.\n",
    "\n",
    "1. Code 1\n",
    "\n",
    "    ```python\n",
    "    a = 0  \t\n",
    "    while a < 3:  \t \t\n",
    "       while True:  \t \t \t\n",
    "           print(\"X\", end = \"\") \n",
    "           break \n",
    "       print(\"O\", end = \"\")  \t \t\n",
    "       a = a + 1 \n",
    "    print(\"\")\n",
    "    ```\n",
    "\n",
    "2. Code 2\n",
    "\n",
    "    ```python\n",
    "    a = 1 \n",
    "    while a < 3: \n",
    "       while a < 3:  \t \t \t\n",
    "           print(\"O\", end  = \"\") \n",
    "       a = a + 1 \n",
    "    print(\"\")\n",
    "    ```\n",
    "\n",
    "3. Code 3\n",
    "\n",
    "    ```python\n",
    "    a = 1 \n",
    "    while a < 3:  \t \t\n",
    "       if a % 2 == 0: \n",
    "           b = 1  \t \t \t\n",
    "           while b < 3:  \t \t \t \t\n",
    "               print(\"X\", end = \"\")  \t \t \t \t\n",
    "               b = b + 1 \n",
    "               print(\"O\", end = \"\") \n",
    "       a = a + 1 \n",
    "    print(\"\")\n",
    "    ```"
   ]
  },
  {
   "cell_type": "code",
   "execution_count": null,
   "metadata": {},
   "outputs": [],
   "source": [
    "#YOUR ANSWER HERE"
   ]
  },
  {
   "attachments": {},
   "cell_type": "markdown",
   "metadata": {},
   "source": [
    "#### Exercise 2.15\n",
    "\n",
    "The following code loops infinitely when run, fix the code so that its output is `OOOXOXOO`.\n",
    "\n",
    "```python\n",
    "a = 1 \n",
    "while a < 3: \n",
    "   b = 1  \t\n",
    "   while b < 3:  \t \t\n",
    "       if a == 2:  \t \t \t\n",
    "           print(\"X\", end = \"\")  \t \t\n",
    "       print(\"O\", end=\"\")  \t \t\n",
    "       b = b + 1 \n",
    "   print(\"O\", end = \"\") \n",
    "print(\"\")\n",
    "```"
   ]
  },
  {
   "cell_type": "code",
   "execution_count": null,
   "metadata": {},
   "outputs": [],
   "source": [
    "#YOUR ANSWER HERE"
   ]
  },
  {
   "cell_type": "markdown",
   "metadata": {},
   "source": [
    "#### Exercise 2.16\n",
    "\n",
    "Carl Friedrich Gauss (1777-1855) was one of those remarkable infant prodigies whose natural aptitude for mathematics soon becomes apparent. As a child of three, according to a well-authenticated story, he corrected an error in his father's payroll calculations. His arithmetical powers so overwhelmed his schoolmasters that, by the time Gauss was 10 years old, they admitted that there was nothing more they could teach the boy. It is said that in his first arithmetic class Gauss astonished his teacher by instantly solving what was intended to be a \"busy work\" problem: Find the sum of all the numbers from 1 to 100. \n",
    "\n",
    "How would you find this sum yourself? No Googling for answer kthx."
   ]
  },
  {
   "attachments": {},
   "cell_type": "markdown",
   "metadata": {},
   "source": [
    "##### Answer"
   ]
  },
  {
   "cell_type": "code",
   "execution_count": 8,
   "metadata": {},
   "outputs": [
    {
     "name": "stdout",
     "output_type": "stream",
     "text": [
      "5.0\n"
     ]
    }
   ],
   "source": [
    "number = 100 // 2\n",
    "sum1 = 0\n",
    "num_str = str(number)\n",
    "for i in range(len(num_str)):\n",
    "    sum1 += int(num_str[i]) + int(num_str[-i-1])\n",
    "sum2 = sum1 / 2\n",
    "print(sum2)"
   ]
  },
  {
   "cell_type": "code",
   "execution_count": 5,
   "metadata": {},
   "outputs": [
    {
     "name": "stdout",
     "output_type": "stream",
     "text": [
      "1 2 99 101\n",
      "2 3 98 202\n",
      "3 4 97 303\n",
      "4 5 96 404\n",
      "5 6 95 505\n",
      "6 7 94 606\n",
      "7 8 93 707\n",
      "8 9 92 808\n",
      "9 10 91 909\n",
      "10 11 90 1010\n",
      "11 12 89 1111\n",
      "12 13 88 1212\n",
      "13 14 87 1313\n",
      "14 15 86 1414\n",
      "15 16 85 1515\n",
      "16 17 84 1616\n",
      "17 18 83 1717\n",
      "18 19 82 1818\n",
      "19 20 81 1919\n",
      "20 21 80 2020\n",
      "21 22 79 2121\n",
      "22 23 78 2222\n",
      "23 24 77 2323\n",
      "24 25 76 2424\n",
      "25 26 75 2525\n",
      "26 27 74 2626\n",
      "27 28 73 2727\n",
      "28 29 72 2828\n",
      "29 30 71 2929\n",
      "30 31 70 3030\n",
      "31 32 69 3131\n",
      "32 33 68 3232\n",
      "33 34 67 3333\n",
      "34 35 66 3434\n",
      "35 36 65 3535\n",
      "36 37 64 3636\n",
      "37 38 63 3737\n",
      "38 39 62 3838\n",
      "39 40 61 3939\n",
      "40 41 60 4040\n",
      "41 42 59 4141\n",
      "42 43 58 4242\n",
      "43 44 57 4343\n",
      "44 45 56 4444\n",
      "45 46 55 4545\n",
      "46 47 54 4646\n",
      "47 48 53 4747\n",
      "48 49 52 4848\n",
      "49 50 51 4949\n",
      "50 51 50 5050\n",
      "5050\n"
     ]
    }
   ],
   "source": [
    "start_num = 1\n",
    "end_num = 100\n",
    "counter = 0\n",
    "total = 0\n",
    "c_start_num, c_end_num = start_num, end_num\n",
    "while counter < (end_num-start_num+1)//2:\n",
    "    total += c_start_num + c_end_num\n",
    "    c_start_num += 1\n",
    "    c_end_num -= 1\n",
    "    counter += 1\n",
    "    print(counter, c_start_num, c_end_num, total)\n",
    "print(total)"
   ]
  },
  {
   "cell_type": "code",
   "execution_count": 7,
   "metadata": {},
   "outputs": [
    {
     "name": "stdout",
     "output_type": "stream",
     "text": [
      "[('A', 3), ('B', 2), ('C', 1)]\n"
     ]
    }
   ],
   "source": [
    "#YOUR ANSWER HERE\n",
    "scores = {'A':3, 'B': 2, 'C':1}\n",
    "# print(scores.keys())\n",
    "# print(scores.values())\n",
    "s_list = list(scores.items())\n",
    "print(s_list)"
   ]
  },
  {
   "cell_type": "code",
   "execution_count": 1,
   "metadata": {},
   "outputs": [
    {
     "name": "stdout",
     "output_type": "stream",
     "text": [
      "On the 28th day, the athlete would have ran 12800 m for a total of 207200 m.\n"
     ]
    }
   ],
   "source": [
    "n = 1\n",
    "day_distance = 2000\n",
    "total = 0\n",
    "\n",
    "#The loop continues until the total running distance reaches 200,000 meters.\n",
    "while total < 200000:\n",
    "    n += 1\n",
    "    # The athlete's daily running distance starts from 2000 meters and increases by 400 meters every day.\n",
    "    total += day_distance\n",
    "    day_distance += 400\n",
    "\n",
    "print(f\"On the {n-1}th day, the athlete would have ran {day_distance - 400} m for a total of {total} m.\")"
   ]
  },
  {
   "cell_type": "code",
   "execution_count": 3,
   "metadata": {},
   "outputs": [
    {
     "name": "stdout",
     "output_type": "stream",
     "text": [
      "day 1, ran 2000m, total distance ran 2000m\n",
      "day 2, ran 2200.0m, total distance ran 4200.0m\n",
      "day 3, ran 2420.0m, total distance ran 6620.0m\n",
      "day 4, ran 2662.0m, total distance ran 9282.0m\n",
      "day 5, ran 2928.2000000000003m, total distance ran 12210.2m\n",
      "day 6, ran 3221.0200000000004m, total distance ran 15431.220000000001m\n",
      "day 7, ran 3543.1220000000008m, total distance ran 18974.342m\n",
      "day 8, ran 3897.434200000001m, total distance ran 22871.7762m\n",
      "day 9, ran 4287.177620000001m, total distance ran 27158.953820000002m\n",
      "day 10, ran 4715.8953820000015m, total distance ran 31874.849202000005m\n",
      "day 11, ran 5187.484920200002m, total distance ran 37062.33412220001m\n",
      "day 12, ran 5706.233412220003m, total distance ran 42768.56753442001m\n",
      "day 13, ran 6276.8567534420035m, total distance ran 49045.42428786201m\n",
      "day 14, ran 6904.542428786204m, total distance ran 55949.96671664822m\n",
      "day 15, ran 7594.996671664825m, total distance ran 63544.963388313045m\n",
      "day 16, ran 8354.496338831308m, total distance ran 71899.45972714435m\n",
      "day 17, ran 9189.94597271444m, total distance ran 81089.40569985879m\n",
      "day 18, ran 10108.940569985885m, total distance ran 91198.34626984468m\n",
      "day 19, ran 11119.834626984475m, total distance ran 102318.18089682916m\n",
      "day 20, ran 12231.818089682924m, total distance ran 114549.99898651209m\n",
      "day 21, ran 13454.999898651216m, total distance ran 128004.99888516331m\n",
      "day 22, ran 14800.499888516339m, total distance ran 142805.49877367966m\n",
      "On the 23th day, the athlete would have ran 16280.549877367974m for a total of 142805.49877367966 m.\n"
     ]
    }
   ],
   "source": [
    "# Calculate total distance ran by an athlete over a number of days\n",
    "# where the distance ran on the next day is 110% of the current day\n",
    "\n",
    "n = 1  # initialize the counter for the number of days\n",
    "day_distance = 2000  # initialize the distance ran on the first day\n",
    "total = 0  # initialize the total distance ran to 0\n",
    "\n",
    "# Loop until the distance ran on a single day is 16000 or more\n",
    "while day_distance < 16000:\n",
    "    print(f'day {n}, ran {day_distance}m, total distance ran {total + day_distance}m')\n",
    "    n += 1  # increment the number of days by 1\n",
    "    total += day_distance  # add the distance ran on the current day to the total\n",
    "    day_distance *= 1.1  # increase the distance ran on the next day by 10%\n",
    "\n",
    "# Print the final result\n",
    "print(f'On the {n}th day, the athlete would have ran {day_distance}m for a total of {total} m.')"
   ]
  },
  {
   "cell_type": "code",
   "execution_count": 2,
   "metadata": {},
   "outputs": [
    {
     "name": "stdout",
     "output_type": "stream",
     "text": [
      "On day 21, athlete A would have ran 10000m for a total of 126000m.\n",
      "On day 21, athlete B would have ran 13454.999898651216m for a total of 128004.99888516331m.\n"
     ]
    }
   ],
   "source": [
    "# This code compares the running distances of two athletes over a period of time\n",
    "\n",
    "# Initialize variables\n",
    "n = 1 # starting day\n",
    "day_distance_a = 2000 # distance ran by athlete A on day 1\n",
    "day_distance_b = 2000 # distance ran by athlete B on day 1\n",
    "total_a = 0 # total distance ran by athlete A\n",
    "total_b = 0 # total distance ran by athlete B\n",
    "\n",
    "# Loop until athlete B runs more than athlete A\n",
    "while total_b <= total_a:\n",
    "    n += 1 # increment day\n",
    "    total_a += day_distance_a # add day's distance to total for athlete A\n",
    "    day_distance_a += 400 # increase day's distance for athlete A by 400m\n",
    "    total_b += day_distance_b # add day's distance to total for athlete B\n",
    "    day_distance_b *= 1.1 # increase day's distance for athlete B by 10%\n",
    "\n",
    "# Print results\n",
    "print(f\"On day {n-1}, athlete A would have ran {day_distance_a-400}m for a total of {total_a}m.\")\n",
    "print(f\"On day {n-1}, athlete B would have ran {day_distance_b/1.1}m for a total of {total_b}m.\")"
   ]
  },
  {
   "cell_type": "code",
   "execution_count": null,
   "metadata": {},
   "outputs": [],
   "source": []
  }
 ],
 "metadata": {
  "file_extension": ".py",
  "kernelspec": {
   "display_name": "Python 3",
   "language": "python",
   "name": "python3"
  },
  "language_info": {
   "codemirror_mode": {
    "name": "ipython",
    "version": 3
   },
   "file_extension": ".py",
   "mimetype": "text/x-python",
   "name": "python",
   "nbconvert_exporter": "python",
   "pygments_lexer": "ipython3",
   "version": "3.12.1"
  },
  "mimetype": "text/x-python",
  "name": "python",
  "npconvert_exporter": "python",
  "orig_nbformat": 2,
  "pygments_lexer": "ipython3",
  "version": 3,
  "vscode": {
   "interpreter": {
    "hash": "a42ccb73e7d9bfdf27e036f1d2b8b681e55fc0743cc5586bc2474d4a60f4b886"
   }
  }
 },
 "nbformat": 4,
 "nbformat_minor": 2
}
